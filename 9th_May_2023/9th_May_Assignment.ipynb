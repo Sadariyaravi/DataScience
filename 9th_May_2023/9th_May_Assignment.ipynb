{
 "cells": [
  {
   "cell_type": "code",
   "execution_count": 1,
   "id": "3f1aa4b6-98a6-4522-b940-ca59e2863716",
   "metadata": {},
   "outputs": [
    {
     "name": "stdout",
     "output_type": "stream",
     "text": [
      "['this is string', ['item1', 'item2', 'item3'], 3.97, ('item1', 'item2', 'item3')]\n"
     ]
    }
   ],
   "source": [
    "\"\"\"\n",
    "Q1. Create one variable containing following type of data:\n",
    "(i) string\n",
    "(ii) list\n",
    "(iii) float\n",
    "(iv) tuple\n",
    "\n",
    "Ans :-\n",
    "\"\"\"\n",
    "\n",
    "string_variable = 'this is string' ## this is string\n",
    "\n",
    "list_variable = [\"item1\",\"item2\",\"item3\"] ## this is list\n",
    "\n",
    "float_variable = 3.97 ## this is float\n",
    "\n",
    "tuple_variable = (\"item1\",\"item2\",\"item3\") ## this is tuple\n",
    "\n",
    "one_variable = [string_variable,list_variable,float_variable,tuple_variable] ## this is one type of list which is containing all opations types\n",
    "\n",
    "print(one_variable)"
   ]
  },
  {
   "cell_type": "code",
   "execution_count": null,
   "id": "bae5981b-ab96-4cca-bb3c-1a6d6c036225",
   "metadata": {},
   "outputs": [],
   "source": [
    "\"\"\"\n",
    "Q2. Given are some following variables containing data:\n",
    "(i) var1 = ‘ ‘\n",
    "(ii) var2 = ‘[ DS , ML , Python]’\n",
    "(iii) var3 = [ ‘DS’ , ’ML’ , ‘Python’ ]\n",
    "(iv) var4 = 1.\n",
    "What will be the data type of the above given variable.\n",
    "\n",
    "ANS :-\n",
    "\"\"\"\n",
    "\n",
    "## we can find data type using type(variable name)\n",
    "\n",
    "## 1) -> var1 is string type of data.\n",
    "\n",
    "## 2) -> var2 is string type of data.\n",
    "\n",
    "## 3) -> var3 is list type of data.\n",
    "\n",
    "## 4) -> var4 is integer type of data."
   ]
  },
  {
   "cell_type": "code",
   "execution_count": 2,
   "id": "69e67574-74e4-4f95-bd0b-ec21fbd6a239",
   "metadata": {},
   "outputs": [
    {
     "name": "stdout",
     "output_type": "stream",
     "text": [
      "5.0\n",
      "0\n",
      "7\n",
      "32\n"
     ]
    }
   ],
   "source": [
    "\"\"\"\n",
    "Q3. Explain the use of the following operators using an example:\n",
    "(i) /\n",
    "(ii) %\n",
    "(iii) //\n",
    "(iv) **\n",
    "\n",
    "ANS :-\n",
    "\"\"\"\n",
    "\n",
    "## 1) -> / this is Division operator it one type of arithmetic operator and it is used for division for example :-\n",
    "\n",
    "print(10 / 2) ## this will give 5\n",
    "\n",
    "## 2) -> % this is Modulus operator it is also one type of arethmetic operator it is used for find modulus for example :-\n",
    "\n",
    "print (10 % 2) ## this will give 0\n",
    "\n",
    "## 3) -> // this is Floor division it is also one type of arethmetic operators for exapmle :-\n",
    "\n",
    "print(15 // 2) # rounds the result down to the nearest whole number it will give 7\n",
    "\n",
    "## 4) -> ** this is Exponentiation operator it is also one type of arethmetic operators for example :-\n",
    "\n",
    "print(2 ** 5) #same as 2*2*2*2*2"
   ]
  },
  {
   "cell_type": "code",
   "execution_count": 3,
   "id": "4901fc7a-fc73-428e-904e-a3bd7eab1502",
   "metadata": {},
   "outputs": [
    {
     "name": "stdout",
     "output_type": "stream",
     "text": [
      "element : 9\n",
      "element type : <class 'int'>\n",
      "element : this is string\n",
      "element type : <class 'str'>\n",
      "element : True\n",
      "element type : <class 'bool'>\n",
      "element : 3.99\n",
      "element type : <class 'float'>\n",
      "element : [1, 2]\n",
      "element type : <class 'list'>\n",
      "element : 1j\n",
      "element type : <class 'complex'>\n",
      "element : ('a', 'b')\n",
      "element type : <class 'tuple'>\n",
      "element : None\n",
      "element type : <class 'NoneType'>\n",
      "element : 8\n",
      "element type : <class 'int'>\n",
      "element : 9\n",
      "element type : <class 'int'>\n"
     ]
    }
   ],
   "source": [
    "\"\"\"\n",
    "Q4. Create a list of length 10 of your choice containing multiple types of data. Using for loop print the\n",
    "element and its data type.\n",
    "\n",
    "ANS :-\n",
    "\"\"\"\n",
    "\n",
    "mylist = [9,\"this is string\",True,3.99,[1,2],1j,(\"a\",\"b\"),None,8,9]\n",
    "\n",
    "for x in mylist:\n",
    "  print(f\"element : {x}\" )\n",
    "  print(f\"element type : {type(x)}\")"
   ]
  },
  {
   "cell_type": "code",
   "execution_count": 4,
   "id": "120aa643-9403-4bbc-9022-9d218d3113cc",
   "metadata": {},
   "outputs": [
    {
     "name": "stdout",
     "output_type": "stream",
     "text": [
      "33 is purely divisible by 3\n",
      "11.0 is not purely divisible by 3\n",
      "we can divisible Number A by Number B for 1 time\n"
     ]
    }
   ],
   "source": [
    "\"\"\"\n",
    "Q5. Using a while loop, verify if the number A is purely divisible by number B and if so then how many\n",
    "times it can be divisible.\n",
    "\n",
    "ANS :-\n",
    "\"\"\"\n",
    "\n",
    "A = 33\n",
    "B = 3\n",
    "count = 0\n",
    "\n",
    "while A % B == 0:\n",
    "    print(f\"{A} is purely divisible by {B}\")\n",
    "    A = A / B\n",
    "    count += 1\n",
    "    \n",
    "else:\n",
    "    print(f\"{A} is not purely divisible by {B}\")\n",
    "    A = A*B\n",
    "    \n",
    "if count > 0:    \n",
    "    print(f\"we can divisible Number A by Number B for {count} time\")"
   ]
  },
  {
   "cell_type": "code",
   "execution_count": 5,
   "id": "18568ccf-3ae2-4608-a5d2-29683cf664ac",
   "metadata": {},
   "outputs": [
    {
     "name": "stdout",
     "output_type": "stream",
     "text": [
      "1 is not divisible by 3\n",
      "2 is not divisible by 3\n",
      "3 is divisible by 3\n",
      "4 is not divisible by 3\n",
      "5 is not divisible by 3\n",
      "6 is divisible by 3\n",
      "7 is not divisible by 3\n",
      "8 is not divisible by 3\n",
      "9 is divisible by 3\n",
      "10 is not divisible by 3\n",
      "11 is not divisible by 3\n",
      "12 is divisible by 3\n",
      "13 is not divisible by 3\n",
      "14 is not divisible by 3\n",
      "15 is divisible by 3\n",
      "16 is not divisible by 3\n",
      "17 is not divisible by 3\n",
      "18 is divisible by 3\n",
      "19 is not divisible by 3\n",
      "20 is not divisible by 3\n",
      "21 is divisible by 3\n",
      "22 is not divisible by 3\n",
      "23 is not divisible by 3\n",
      "24 is divisible by 3\n",
      "25 is not divisible by 3\n"
     ]
    }
   ],
   "source": [
    "\"\"\"\n",
    "Q6. Create a list containing 25 int type data. Using for loop and if-else condition print if the element is\n",
    "divisible by 3 or not.\n",
    "\n",
    "ANS :-\n",
    "\"\"\"\n",
    "\n",
    "intlist = [1,2,3,4,5,6,7,8,9,10,11,12,13,14,15,16,17,18,19,20,21,22,23,24,25]\n",
    "\n",
    "for x in intlist:\n",
    "  if x % 3 == 0:\n",
    "    print(f\"{x} is divisible by 3\")\n",
    "  else:\n",
    "    print(f\"{x} is not divisible by 3\")\n",
    "\n"
   ]
  },
  {
   "cell_type": "code",
   "execution_count": null,
   "id": "3fe1cc5c-83a0-401f-9832-b3a339ed6756",
   "metadata": {},
   "outputs": [],
   "source": [
    "\"\"\"\n",
    "Q7. What do you understand about mutable and immutable data types? Give examples for both showing\n",
    "this property.\n",
    "\n",
    "ANS :-\n",
    "\"\"\"\n",
    "\n",
    "## mutable data type\n",
    "## A mutable type of data can be changed after it is created\n",
    "## for example :- List,Set,Dictionary\n",
    "\n",
    "## immutable data type\n",
    "## An immutable type of data cannot be changed after it is created\n",
    "## for exapmle :- tuples, int, float"
   ]
  }
 ],
 "metadata": {
  "kernelspec": {
   "display_name": "Python 3 (ipykernel)",
   "language": "python",
   "name": "python3"
  },
  "language_info": {
   "codemirror_mode": {
    "name": "ipython",
    "version": 3
   },
   "file_extension": ".py",
   "mimetype": "text/x-python",
   "name": "python",
   "nbconvert_exporter": "python",
   "pygments_lexer": "ipython3",
   "version": "3.10.8"
  }
 },
 "nbformat": 4,
 "nbformat_minor": 5
}
